{
 "cells": [
  {
   "cell_type": "markdown",
   "metadata": {},
   "source": [
    "# Analyse portée des comptes \n",
    "Objectif: faire un tableau récapitulatif des informations sur la portée des tweets et de leur source: s'agit-t-il des comptes climato-sceptiques ou pro-climats ? "
   ]
  },
  {
   "cell_type": "code",
   "execution_count": 25,
   "metadata": {},
   "outputs": [],
   "source": [
    "import pandas as pd \n",
    "import numpy as np"
   ]
  },
  {
   "cell_type": "code",
   "execution_count": 26,
   "metadata": {},
   "outputs": [
    {
     "name": "stdout",
     "output_type": "stream",
     "text": [
      "C:\\\n",
      "C:\\Users\\Tanguy RUAULT\\downloads\\data_isc\\hue\n"
     ]
    }
   ],
   "source": [
    "%cd /\n",
    "%cd Users/Tanguy RUAULT/downloads/data_isc/hue"
   ]
  },
  {
   "cell_type": "markdown",
   "metadata": {},
   "source": [
    "## Fonctions"
   ]
  },
  {
   "cell_type": "code",
   "execution_count": null,
   "metadata": {},
   "outputs": [],
   "source": [
    "def portee_com_treatment(dataframe,)"
   ]
  },
  {
   "cell_type": "markdown",
   "metadata": {},
   "source": [
    "### import des infos de portée et des com "
   ]
  },
  {
   "cell_type": "code",
   "execution_count": 27,
   "metadata": {},
   "outputs": [
    {
     "name": "stdout",
     "output_type": "stream",
     "text": [
      "0              292929271\n",
      "1               18643437\n",
      "2     817661098988019712\n",
      "3             1392956425\n",
      "4               78523300\n",
      "             ...        \n",
      "95    872428556550385664\n",
      "96              89742111\n",
      "97    960285302899298304\n",
      "98            2327400218\n",
      "99              25360591\n",
      "Name: Id, Length: 100, dtype: int64\n",
      "100    1006419421244678144\n",
      "101                 939091\n",
      "102              216776631\n",
      "103              138203134\n",
      "104              950477244\n",
      "              ...         \n",
      "195               20790580\n",
      "196                1917731\n",
      "197                5392522\n",
      "198              424624761\n",
      "199             2184934963\n",
      "Name: Id, Length: 100, dtype: int64\n"
     ]
    }
   ],
   "source": [
    "\n",
    "portee_rt = pd.read_csv(\"portee_rt.csv\", sep=\";\")\n",
    "portee_rt = pd.DataFrame(portee_rt)\n",
    "attrs = pd.read_csv(\"2main_communities100.csv\")\n",
    "com1 = attrs[attrs[\"COM2\"]==0.0]\n",
    "com1 = com1[\"Id\"]\n",
    "##ne contient que les noeuds appartenant à la com1\n",
    "com2 = attrs[attrs[\"COM2\"]==1.0]\n",
    "com2 = com2[\"Id\"]\n",
    "print(com1)\n",
    "print(com2)"
   ]
  },
  {
   "cell_type": "code",
   "execution_count": 28,
   "metadata": {},
   "outputs": [
    {
     "data": {
      "text/html": [
       "<div>\n",
       "<style scoped>\n",
       "    .dataframe tbody tr th:only-of-type {\n",
       "        vertical-align: middle;\n",
       "    }\n",
       "\n",
       "    .dataframe tbody tr th {\n",
       "        vertical-align: top;\n",
       "    }\n",
       "\n",
       "    .dataframe thead th {\n",
       "        text-align: right;\n",
       "    }\n",
       "</style>\n",
       "<table border=\"1\" class=\"dataframe\">\n",
       "  <thead>\n",
       "    <tr style=\"text-align: right;\">\n",
       "      <th></th>\n",
       "      <th>RTid</th>\n",
       "      <th>numberOfAccountReached</th>\n",
       "      <th>target</th>\n",
       "      <th>sourceSnm</th>\n",
       "      <th>source</th>\n",
       "      <th>count_usr_retweets</th>\n",
       "    </tr>\n",
       "  </thead>\n",
       "  <tbody>\n",
       "    <tr>\n",
       "      <th>0</th>\n",
       "      <td>1188635730043518976</td>\n",
       "      <td>103</td>\n",
       "      <td>2360941753</td>\n",
       "      <td>_ahsanR</td>\n",
       "      <td>1911811837</td>\n",
       "      <td>49</td>\n",
       "    </tr>\n",
       "    <tr>\n",
       "      <th>1</th>\n",
       "      <td>1259915164872093697</td>\n",
       "      <td>46</td>\n",
       "      <td>726716002520682496</td>\n",
       "      <td>KLovesNature</td>\n",
       "      <td>119605179</td>\n",
       "      <td>19</td>\n",
       "    </tr>\n",
       "    <tr>\n",
       "      <th>2</th>\n",
       "      <td>1123626300395216897</td>\n",
       "      <td>45</td>\n",
       "      <td>3408923489</td>\n",
       "      <td>HassCho</td>\n",
       "      <td>2396424968</td>\n",
       "      <td>12</td>\n",
       "    </tr>\n",
       "    <tr>\n",
       "      <th>3</th>\n",
       "      <td>1231534636725084160</td>\n",
       "      <td>33</td>\n",
       "      <td>3278362501</td>\n",
       "      <td>emel0371</td>\n",
       "      <td>1200042352947142656</td>\n",
       "      <td>24</td>\n",
       "    </tr>\n",
       "    <tr>\n",
       "      <th>4</th>\n",
       "      <td>1199016896995188736</td>\n",
       "      <td>26</td>\n",
       "      <td>860218071646130177</td>\n",
       "      <td>sha__re</td>\n",
       "      <td>2461150503</td>\n",
       "      <td>96</td>\n",
       "    </tr>\n",
       "  </tbody>\n",
       "</table>\n",
       "</div>"
      ],
      "text/plain": [
       "                  RTid  numberOfAccountReached              target  \\\n",
       "0  1188635730043518976                     103          2360941753   \n",
       "1  1259915164872093697                      46  726716002520682496   \n",
       "2  1123626300395216897                      45          3408923489   \n",
       "3  1231534636725084160                      33          3278362501   \n",
       "4  1199016896995188736                      26  860218071646130177   \n",
       "\n",
       "      sourceSnm               source  count_usr_retweets  \n",
       "0       _ahsanR           1911811837                  49  \n",
       "1  KLovesNature            119605179                  19  \n",
       "2       HassCho           2396424968                  12  \n",
       "3      emel0371  1200042352947142656                  24  \n",
       "4       sha__re           2461150503                  96  "
      ]
     },
     "execution_count": 28,
     "metadata": {},
     "output_type": "execute_result"
    }
   ],
   "source": [
    "portee_rt.head()"
   ]
  },
  {
   "cell_type": "code",
   "execution_count": 90,
   "metadata": {},
   "outputs": [
    {
     "name": "stdout",
     "output_type": "stream",
     "text": [
      "(81, 3)\n",
      "(281, 3)\n"
     ]
    }
   ],
   "source": [
    "portee_com1= portee_rt[portee_rt[\"source\"].isin(com1)]\n",
    "portee_com2= portee_rt[portee_rt[\"source\"].isin(com2)]\n",
    "\n",
    "####on ne garde que les nbres de comptes atteints et le nom de la source : sachant que l'on groupe par des sources uniques \n",
    "portee_cs = portee_com1[[\"sourceSnm\",\"source\",\"numberOfAccountReached\"]].sort_values(by=[\"numberOfAccountReached\"], ascending= False)\n",
    "portee_pc = portee_com2[[\"sourceSnm\",\"source\",\"numberOfAccountReached\"]].sort_values(by=[\"numberOfAccountReached\"], ascending= False)\n",
    "print(portee_cs.shape)\n",
    "print(portee_pc.shape)\n",
    "####on remarque que com2 est plutôt liée aux pro_climat et com1 aux climatosceptiques"
   ]
  },
  {
   "cell_type": "markdown",
   "metadata": {},
   "source": [
    "## Visualisation par tweets"
   ]
  },
  {
   "cell_type": "code",
   "execution_count": 96,
   "metadata": {},
   "outputs": [],
   "source": [
    "\n",
    "\n",
    "\n",
    "portee_cs[\"n\"] = np.arange(0,81,1)\n",
    "portee_pc[\"n\"] = np.arange(0,281,1)\n",
    "portee_cs=  portee_cs.set_index(\"n\").drop([\"sourceSnm\",\"source\"], axis = 1)\n",
    "portee_pc = portee_pc.set_index(\"n\").drop([\"sourceSnm\",\"source\"], axis = 1)"
   ]
  },
  {
   "cell_type": "code",
   "execution_count": 97,
   "metadata": {},
   "outputs": [
    {
     "name": "stdout",
     "output_type": "stream",
     "text": [
      "C:\\Users\\Tanguy RUAULT\\OneDrive\\scolarite\\master_hn\\projet_de-recherche\\memoire_m2\\versions\\figures\n"
     ]
    }
   ],
   "source": [
    "###changer le répertoire d'export\n",
    "%cd /Users/Tanguy RUAULT/OneDrive/scolarite/master_hn/projet_de-recherche/memoire_m2/versions/figures"
   ]
  },
  {
   "cell_type": "code",
   "execution_count": 101,
   "metadata": {},
   "outputs": [
    {
     "data": {
      "image/png": "[encoded data removed]",
      "text/plain": [
       "<Figure size 432x288 with 1 Axes>"
      ]
     },
     "metadata": {
      "needs_background": "light"
     },
     "output_type": "display_data"
    }
   ],
   "source": [
    "import matplotlib.pyplot as plt\n",
    "fig,ax = plt.subplots()\n",
    "\n",
    "ax.plot(portee_cs, color = 'tab:red', label=\"climato-sceptiques\")\n",
    "ax.plot(portee_pc, color = 'tab:blue', label = \"pro-climat\")\n",
    "ax.set_xlim(0,80)\n",
    "ax.set_xlabel(\"rang\")\n",
    "ax.set_ylabel(\"nbre de RT\")\n",
    "ax.legend(loc='right')\n",
    "plt.savefig(\"portee_rt_total.png\")"
   ]
  },
  {
   "cell_type": "code",
   "execution_count": 102,
   "metadata": {},
   "outputs": [
    {
     "ename": "KeyError",
     "evalue": "'source'",
     "output_type": "error",
     "traceback": [
      "\u001b[1;31m---------------------------------------------------------------------------\u001b[0m",
      "\u001b[1;31mKeyError\u001b[0m                                  Traceback (most recent call last)",
      "\u001b[1;32m<ipython-input-102-c8d1766ff3d7>\u001b[0m in \u001b[0;36m<module>\u001b[1;34m\u001b[0m\n\u001b[1;32m----> 1\u001b[1;33m \u001b[0mportee_cs\u001b[0m\u001b[1;33m=\u001b[0m \u001b[0mportee_cs\u001b[0m\u001b[1;33m.\u001b[0m\u001b[0mgroupby\u001b[0m\u001b[1;33m(\u001b[0m\u001b[1;34m\"source\"\u001b[0m\u001b[1;33m)\u001b[0m\u001b[1;33m.\u001b[0m\u001b[0msum\u001b[0m\u001b[1;33m(\u001b[0m\u001b[1;33m)\u001b[0m\u001b[1;33m\u001b[0m\u001b[1;33m\u001b[0m\u001b[0m\n\u001b[0m\u001b[0;32m      2\u001b[0m \u001b[0mportee_pc\u001b[0m \u001b[1;33m=\u001b[0m \u001b[0mportee_pc\u001b[0m\u001b[1;33m.\u001b[0m\u001b[0mgroupby\u001b[0m\u001b[1;33m(\u001b[0m\u001b[1;34m\"source\"\u001b[0m\u001b[1;33m)\u001b[0m\u001b[1;33m.\u001b[0m\u001b[0msum\u001b[0m\u001b[1;33m(\u001b[0m\u001b[1;33m)\u001b[0m\u001b[1;33m\u001b[0m\u001b[1;33m\u001b[0m\u001b[0m\n\u001b[0;32m      3\u001b[0m \u001b[1;33m\u001b[0m\u001b[0m\n\u001b[0;32m      4\u001b[0m \u001b[0mprint\u001b[0m\u001b[1;33m(\u001b[0m\u001b[0mportee_cs\u001b[0m\u001b[1;33m.\u001b[0m\u001b[0mshape\u001b[0m\u001b[1;33m)\u001b[0m\u001b[1;33m\u001b[0m\u001b[1;33m\u001b[0m\u001b[0m\n\u001b[0;32m      5\u001b[0m \u001b[0mprint\u001b[0m\u001b[1;33m(\u001b[0m\u001b[0mportee_pc\u001b[0m\u001b[1;33m.\u001b[0m\u001b[0mshape\u001b[0m\u001b[1;33m)\u001b[0m\u001b[1;33m\u001b[0m\u001b[1;33m\u001b[0m\u001b[0m\n",
      "\u001b[1;32m~\\anaconda3\\lib\\site-packages\\pandas\\core\\frame.py\u001b[0m in \u001b[0;36mgroupby\u001b[1;34m(self, by, axis, level, as_index, sort, group_keys, squeeze, observed, dropna)\u001b[0m\n\u001b[0;32m   6509\u001b[0m         \u001b[0maxis\u001b[0m \u001b[1;33m=\u001b[0m \u001b[0mself\u001b[0m\u001b[1;33m.\u001b[0m\u001b[0m_get_axis_number\u001b[0m\u001b[1;33m(\u001b[0m\u001b[0maxis\u001b[0m\u001b[1;33m)\u001b[0m\u001b[1;33m\u001b[0m\u001b[1;33m\u001b[0m\u001b[0m\n\u001b[0;32m   6510\u001b[0m \u001b[1;33m\u001b[0m\u001b[0m\n\u001b[1;32m-> 6511\u001b[1;33m         return DataFrameGroupBy(\n\u001b[0m\u001b[0;32m   6512\u001b[0m             \u001b[0mobj\u001b[0m\u001b[1;33m=\u001b[0m\u001b[0mself\u001b[0m\u001b[1;33m,\u001b[0m\u001b[1;33m\u001b[0m\u001b[1;33m\u001b[0m\u001b[0m\n\u001b[0;32m   6513\u001b[0m             \u001b[0mkeys\u001b[0m\u001b[1;33m=\u001b[0m\u001b[0mby\u001b[0m\u001b[1;33m,\u001b[0m\u001b[1;33m\u001b[0m\u001b[1;33m\u001b[0m\u001b[0m\n",
      "\u001b[1;32m~\\anaconda3\\lib\\site-packages\\pandas\\core\\groupby\\groupby.py\u001b[0m in \u001b[0;36m__init__\u001b[1;34m(self, obj, keys, axis, level, grouper, exclusions, selection, as_index, sort, group_keys, squeeze, observed, mutated, dropna)\u001b[0m\n\u001b[0;32m    523\u001b[0m             \u001b[1;32mfrom\u001b[0m \u001b[0mpandas\u001b[0m\u001b[1;33m.\u001b[0m\u001b[0mcore\u001b[0m\u001b[1;33m.\u001b[0m\u001b[0mgroupby\u001b[0m\u001b[1;33m.\u001b[0m\u001b[0mgrouper\u001b[0m \u001b[1;32mimport\u001b[0m \u001b[0mget_grouper\u001b[0m\u001b[1;33m\u001b[0m\u001b[1;33m\u001b[0m\u001b[0m\n\u001b[0;32m    524\u001b[0m \u001b[1;33m\u001b[0m\u001b[0m\n\u001b[1;32m--> 525\u001b[1;33m             grouper, exclusions, obj = get_grouper(\n\u001b[0m\u001b[0;32m    526\u001b[0m                 \u001b[0mobj\u001b[0m\u001b[1;33m,\u001b[0m\u001b[1;33m\u001b[0m\u001b[1;33m\u001b[0m\u001b[0m\n\u001b[0;32m    527\u001b[0m                 \u001b[0mkeys\u001b[0m\u001b[1;33m,\u001b[0m\u001b[1;33m\u001b[0m\u001b[1;33m\u001b[0m\u001b[0m\n",
      "\u001b[1;32m~\\anaconda3\\lib\\site-packages\\pandas\\core\\groupby\\grouper.py\u001b[0m in \u001b[0;36mget_grouper\u001b[1;34m(obj, key, axis, level, sort, observed, mutated, validate, dropna)\u001b[0m\n\u001b[0;32m    779\u001b[0m                 \u001b[0min_axis\u001b[0m\u001b[1;33m,\u001b[0m \u001b[0mname\u001b[0m\u001b[1;33m,\u001b[0m \u001b[0mlevel\u001b[0m\u001b[1;33m,\u001b[0m \u001b[0mgpr\u001b[0m \u001b[1;33m=\u001b[0m \u001b[1;32mFalse\u001b[0m\u001b[1;33m,\u001b[0m \u001b[1;32mNone\u001b[0m\u001b[1;33m,\u001b[0m \u001b[0mgpr\u001b[0m\u001b[1;33m,\u001b[0m \u001b[1;32mNone\u001b[0m\u001b[1;33m\u001b[0m\u001b[1;33m\u001b[0m\u001b[0m\n\u001b[0;32m    780\u001b[0m             \u001b[1;32melse\u001b[0m\u001b[1;33m:\u001b[0m\u001b[1;33m\u001b[0m\u001b[1;33m\u001b[0m\u001b[0m\n\u001b[1;32m--> 781\u001b[1;33m                 \u001b[1;32mraise\u001b[0m \u001b[0mKeyError\u001b[0m\u001b[1;33m(\u001b[0m\u001b[0mgpr\u001b[0m\u001b[1;33m)\u001b[0m\u001b[1;33m\u001b[0m\u001b[1;33m\u001b[0m\u001b[0m\n\u001b[0m\u001b[0;32m    782\u001b[0m         \u001b[1;32melif\u001b[0m \u001b[0misinstance\u001b[0m\u001b[1;33m(\u001b[0m\u001b[0mgpr\u001b[0m\u001b[1;33m,\u001b[0m \u001b[0mGrouper\u001b[0m\u001b[1;33m)\u001b[0m \u001b[1;32mand\u001b[0m \u001b[0mgpr\u001b[0m\u001b[1;33m.\u001b[0m\u001b[0mkey\u001b[0m \u001b[1;32mis\u001b[0m \u001b[1;32mnot\u001b[0m \u001b[1;32mNone\u001b[0m\u001b[1;33m:\u001b[0m\u001b[1;33m\u001b[0m\u001b[1;33m\u001b[0m\u001b[0m\n\u001b[0;32m    783\u001b[0m             \u001b[1;31m# Add key to exclusions\u001b[0m\u001b[1;33m\u001b[0m\u001b[1;33m\u001b[0m\u001b[1;33m\u001b[0m\u001b[0m\n",
      "\u001b[1;31mKeyError\u001b[0m: 'source'"
     ]
    }
   ],
   "source": [
    "portee_cs= portee_cs.groupby(\"source\").sum()\n",
    "portee_pc = portee_pc.groupby(\"source\").sum()\n",
    "\n",
    "print(portee_cs.shape)\n",
    "print(portee_pc.shape)\n",
    "###on anonymise les tweets en ajoutant des numéros\n",
    "portee_cs[\"n\"] = np.arange(0,30,1)\n",
    "portee_pc[\"n\"] = np.arange(0,58,1)\n",
    "portee_cs=  portee_cs.set_index(\"n\")\n",
    "portee_pc = portee_pc.set_index(\"n\")\n",
    "\n",
    "####il n'y a pas de membre de la com2 dans le most reached\n",
    "\n",
    "#portee_cs[[\"numberOfAccountReached\"]].to_latex(\"portee_cs.tex\")\n",
    "#portee_pc[[\"numberOfAccountReached\"]].to_latex(\"portee_pc.tex\")"
   ]
  },
  {
   "cell_type": "code",
   "execution_count": null,
   "metadata": {},
   "outputs": [],
   "source": []
  },
  {
   "cell_type": "code",
   "execution_count": 62,
   "metadata": {},
   "outputs": [
    {
     "data": {
      "image/png": "[encoded data removed]",
      "text/plain": [
       "<Figure size 432x288 with 1 Axes>"
      ]
     },
     "metadata": {
      "needs_background": "light"
     },
     "output_type": "display_data"
    }
   ],
   "source": []
  },
  {
   "cell_type": "code",
   "execution_count": null,
   "metadata": {},
   "outputs": [],
   "source": [
    "import matplotlib.pyplot as plt\n",
    "fig,ax = plt.subplots()\n",
    "\n",
    "ax.plot(portee_cs, color = 'tab:red', label=\"climato-sceptiques\")\n",
    "ax.plot(portee_pc, color = 'tab:blue', label = \"pro-climat\")\n",
    "ax.set_xlim(0,40)\n",
    "ax.set_xlabel(\"rang\")\n",
    "ax.set_ylabel(\"nbre de RT\")\n",
    "ax.legend(loc='right')\n",
    "#plt.savefig(\"portee_rt.png\")"
   ]
  },
  {
   "cell_type": "code",
   "execution_count": 32,
   "metadata": {},
   "outputs": [
    {
     "name": "stdout",
     "output_type": "stream",
     "text": [
      "0              292929271\n",
      "1               18643437\n",
      "2     817661098988019712\n",
      "3             1392956425\n",
      "4               78523300\n",
      "             ...        \n",
      "95    872428556550385664\n",
      "96              89742111\n",
      "97    960285302899298304\n",
      "98            2327400218\n",
      "99              25360591\n",
      "Name: Id, Length: 100, dtype: int64\n",
      "100    1006419421244678144\n",
      "101                 939091\n",
      "102              216776631\n",
      "103              138203134\n",
      "104              950477244\n",
      "              ...         \n",
      "195               20790580\n",
      "196                1917731\n",
      "197                5392522\n",
      "198              424624761\n",
      "199             2184934963\n",
      "Name: Id, Length: 100, dtype: int64\n"
     ]
    }
   ],
   "source": [
    "###import des infos de portée et des com \n",
    "portee_comments = pd.read_csv(\"portee_comments.csv\", sep=\";\")\n",
    "portee_comments = pd.DataFrame(portee_comments)\n",
    "attrs = pd.read_csv(\"2main_communities100.csv\")\n",
    "com1 = attrs[attrs[\"COM2\"]==0.0]\n",
    "com1 = com1[\"Id\"]\n",
    "##ne contient que les noeuds appartenant à la com1\n",
    "com2 = attrs[attrs[\"COM2\"]==1.0]\n",
    "com2 = com2[\"Id\"]\n",
    "print(com1)\n",
    "print(com2)\n",
    "#portee_comments.head()"
   ]
  },
  {
   "cell_type": "code",
   "execution_count": null,
   "metadata": {},
   "outputs": [],
   "source": []
  },
  {
   "cell_type": "code",
   "execution_count": 71,
   "metadata": {},
   "outputs": [
    {
     "name": "stdout",
     "output_type": "stream",
     "text": [
      "                   quoted               id_str  numberOfAccountCommenting  \\\n",
      "3849  1202601324338188289  1323723354340265986                          1   \n",
      "3904  1293619774254198784  1294114085399928832                          1   \n",
      "4082  1293472292362694656  1294940677713928192                          1   \n",
      "4117  1209025851343413248  1211250490249490432                          1   \n",
      "4338  1242679443577020416  1246787185954652167                          1   \n",
      "\n",
      "           quotedSnm        source  \n",
      "3849       Onalytica  9.044090e+08  \n",
      "3904  SamanthaJPower  1.880725e+09  \n",
      "4082         Reuters  1.006419e+18  \n",
      "4117     CarbonBrief  1.006419e+18  \n",
      "4338  Fridays4future  1.006419e+18  \n"
     ]
    }
   ],
   "source": [
    "portee_comments_cs= portee_comments[portee_comments[\"source\"].isin(com1)]\n",
    "portee_comments_pc= portee_comments[portee_comments[\"source\"].isin(com2)]\n",
    "print(portee_comments_pc.tail())"
   ]
  },
  {
   "cell_type": "code",
   "execution_count": 68,
   "metadata": {},
   "outputs": [
    {
     "data": {
      "text/plain": [
       "(18, 1)"
      ]
     },
     "execution_count": 68,
     "metadata": {},
     "output_type": "execute_result"
    }
   ],
   "source": [
    "####on ne garde que les nbres de comptes atteints et le nom de la source\n",
    "portee_comments_cs= portee_comments_cs[[\"quotedSnm\",\"source\",\"numberOfAccountCommenting\"]].groupby(\"source\").sum().sort_values(by=[\"numberOfAccountCommenting\"], ascending= False)\n",
    "\n",
    "\n",
    "\n",
    "portee_comments_pc = portee_comments_pc[[\"quotedSnm\",\"source\",\"numberOfAccountCommenting\"]].groupby(\"source\").sum().sort_values(by=[\"numberOfAccountCommenting\"], ascending= False)\n",
    "portee_comments_pc.shape"
   ]
  },
  {
   "cell_type": "markdown",
   "metadata": {},
   "source": [
    "### Visualisation"
   ]
  },
  {
   "cell_type": "code",
   "execution_count": 35,
   "metadata": {},
   "outputs": [],
   "source": [
    "#print(portee_com1.head())\n",
    "#print(portee_com2.head())\n",
    "\n",
    "###on anonymise les tweets en ajoutant des numéros\n",
    "portee_comments_cs[\"n\"] = np.arange(0,12,1)\n",
    "portee_comments_pc[\"n\"] = np.arange(0,18,1)\n",
    "portee_comments_cs=  portee_comments_cs.set_index(\"n\")\n",
    "portee_comments_pc= portee_comments_pc.set_index(\"n\")\n",
    "\n",
    "####il n'y a pas de membre de la com2 dans le most reached\n",
    "\n",
    "portee_comments_cs[[\"numberOfAccountCommenting\"]].to_latex(\"portee_comments_cs.tex\")\n",
    "portee_comments_pc[[\"numberOfAccountCommenting\"]].to_latex(\"portee_comments_pc.tex\")"
   ]
  },
  {
   "cell_type": "code",
   "execution_count": 47,
   "metadata": {},
   "outputs": [
    {
     "name": "stdout",
     "output_type": "stream",
     "text": [
      "C:\\Users\\Tanguy RUAULT\\OneDrive\\scolarite\\master_hn\\projet_de-recherche\\memoire_m2\\versions\\figures\n"
     ]
    }
   ],
   "source": [
    "###changer le répertoire d'export\n",
    "%cd /Users/Tanguy RUAULT/OneDrive/scolarite/master_hn/projet_de-recherche/memoire_m2/versions/figures"
   ]
  },
  {
   "cell_type": "code",
   "execution_count": 64,
   "metadata": {},
   "outputs": [
    {
     "data": {
      "image/png": "[encoded data removed]",
      "text/plain": [
       "<Figure size 432x288 with 1 Axes>"
      ]
     },
     "metadata": {
      "needs_background": "light"
     },
     "output_type": "display_data"
    }
   ],
   "source": [
    "import matplotlib.pyplot as plt\n",
    "fig,ax = plt.subplots()\n",
    "\n",
    "ax.plot(portee_comments_cs, color = 'tab:red', label=\"climato-sceptiques\")\n",
    "ax.plot(portee_comments_pc, color = 'tab:blue', label = \"pro-climat\")\n",
    "ax.set_xlim(0,20)\n",
    "ax.set_xlabel(\"rang\")\n",
    "ax.set_ylabel(\"nbre de commentaires\")\n",
    "ax.legend(loc='right')\n",
    "plt.savefig(\"portee_comments.png\")"
   ]
  },
  {
   "cell_type": "markdown",
   "metadata": {},
   "source": [
    "### regarder plus précisément les comptes les plus retweetés "
   ]
  },
  {
   "cell_type": "code",
   "execution_count": 1,
   "metadata": {},
   "outputs": [
    {
     "name": "stdout",
     "output_type": "stream",
     "text": [
      "C:\\\n",
      "C:\\Users\\Tanguy RUAULT\\downloads\\data_isc\\hue\n"
     ]
    }
   ],
   "source": [
    "%cd /\n",
    "%cd Users/Tanguy RUAULT/downloads/data_isc/hue"
   ]
  },
  {
   "cell_type": "markdown",
   "metadata": {},
   "source": [
    "## importation du graphe ego autoru de joebiden"
   ]
  },
  {
   "cell_type": "code",
   "execution_count": 47,
   "metadata": {},
   "outputs": [],
   "source": [
    "\n",
    "\n",
    "####regarder quelle communauté interagit le plus avec lui\n",
    "\n",
    "import networkx as nx\n",
    "import pandas as pd\n",
    "raw_g = pd.read_csv(\"graph_joebiden.csv\", delimiter = \";\")\n",
    "raw_g = pd.DataFrame(raw_g)\n",
    "raw_g.sort_values(by=[\"weight\"], ascending= False)\n",
    "raw_g_reduced = raw_g.head(10) ####on fait un test avec les 100 premièrs lignes \n",
    "\n"
   ]
  },
  {
   "cell_type": "code",
   "execution_count": 48,
   "metadata": {},
   "outputs": [
    {
     "data": {
      "image/png": "[encoded data removed]",
      "text/plain": [
       "<Figure size 720x720 with 1 Axes>"
      ]
     },
     "metadata": {},
     "output_type": "display_data"
    }
   ],
   "source": [
    "mc_g = nx.from_pandas_edgelist(raw_g_reduced, source = 'source', target = 'target',edge_attr='weight')\n",
    "\n",
    "\n",
    "\n",
    "import matplotlib.pyplot as plt \n",
    "plt.figure(figsize=(10,10))\n",
    "#nx.draw_kamada_kawai(mc_g,node_size = 1)\n",
    "nx.draw_spectral(mc_g, node_size = 2, with_labels=True)\n",
    "#nx.draw(mc_g,node_size = 2)\n",
    "plt.show()\n"
   ]
  }
 ],
 "metadata": {
  "kernelspec": {
   "display_name": "Python 3",
   "language": "python",
   "name": "python3"
  },
  "language_info": {
   "codemirror_mode": {
    "name": "ipython",
    "version": 3
   },
   "file_extension": ".py",
   "mimetype": "text/x-python",
   "name": "python",
   "nbconvert_exporter": "python",
   "pygments_lexer": "ipython3",
   "version": "3.8.5"
  }
 },
 "nbformat": 4,
 "nbformat_minor": 4
}
